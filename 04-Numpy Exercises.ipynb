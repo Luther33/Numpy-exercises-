{
 "cells": [
  {
   "cell_type": "markdown",
   "metadata": {
    "id": "LG5t8he1wLFF"
   },
   "source": [
    "___\n",
    "___"
   ]
  },
  {
   "cell_type": "markdown",
   "metadata": {
    "id": "zDAftDPEwLFU"
   },
   "source": [
    "# NumPy Exercises \n",
    "\n",
    "Now that we've learned about NumPy let's test your knowledge. We'll start off with a few simple tasks, and then you'll be asked some more complicated questions."
   ]
  },
  {
   "cell_type": "markdown",
   "metadata": {
    "id": "VYq1U3-4wLFX"
   },
   "source": [
    "#### Import NumPy as np"
   ]
  },
  {
   "cell_type": "code",
   "execution_count": 2,
   "metadata": {
    "id": "3E3jfEHgwLFZ"
   },
   "outputs": [],
   "source": [
    "import numpy as np"
   ]
  },
  {
   "cell_type": "markdown",
   "metadata": {
    "id": "OtRczLzswLFe"
   },
   "source": [
    "#### Create an array of 10 zeros "
   ]
  },
  {
   "cell_type": "code",
   "execution_count": 3,
   "metadata": {
    "id": "SaqTqp0zwLFf",
    "outputId": "518c353f-d8b7-4cde-f1f5-5983d4415276"
   },
   "outputs": [
    {
     "data": {
      "text/plain": [
       "array([0., 0., 0., 0., 0., 0., 0., 0., 0., 0.])"
      ]
     },
     "execution_count": 3,
     "metadata": {},
     "output_type": "execute_result"
    }
   ],
   "source": [
    "np.zeros(10)"
   ]
  },
  {
   "cell_type": "markdown",
   "metadata": {
    "id": "E1mDPkT7wLFk"
   },
   "source": [
    "#### Create an array of 10 ones"
   ]
  },
  {
   "cell_type": "code",
   "execution_count": 4,
   "metadata": {
    "id": "Qgkn_PLEwLFn",
    "outputId": "913d2844-ddf0-4a58-a505-d0a14efb23e2"
   },
   "outputs": [
    {
     "data": {
      "text/plain": [
       "array([1., 1., 1., 1., 1., 1., 1., 1., 1., 1.])"
      ]
     },
     "execution_count": 4,
     "metadata": {},
     "output_type": "execute_result"
    }
   ],
   "source": [
    "np.ones(10)"
   ]
  },
  {
   "cell_type": "markdown",
   "metadata": {
    "id": "aA9NdF_nwLFp"
   },
   "source": [
    "#### Create an array of 10 fives"
   ]
  },
  {
   "cell_type": "code",
   "execution_count": 7,
   "metadata": {
    "id": "73Up4INmwLFt"
   },
   "outputs": [
    {
     "data": {
      "text/plain": [
       "array([5., 5., 5., 5., 5., 5., 5., 5., 5., 5.])"
      ]
     },
     "execution_count": 7,
     "metadata": {},
     "output_type": "execute_result"
    }
   ],
   "source": [
    "a = np.ones(10)\n",
    "a *5"
   ]
  },
  {
   "cell_type": "markdown",
   "metadata": {
    "id": "gO9fa8bQwLFv"
   },
   "source": [
    "#### Create an array of the integers from 10 to 50"
   ]
  },
  {
   "cell_type": "code",
   "execution_count": 9,
   "metadata": {
    "id": "NK5OJhz7wLFx",
    "outputId": "95cce0fb-3444-4a43-9585-ab66c1e83451"
   },
   "outputs": [
    {
     "data": {
      "text/plain": [
       "array([10, 11, 12, 13, 14, 15, 16, 17, 18, 19, 20, 21, 22, 23, 24, 25, 26,\n",
       "       27, 28, 29, 30, 31, 32, 33, 34, 35, 36, 37, 38, 39, 40, 41, 42, 43,\n",
       "       44, 45, 46, 47, 48, 49, 50])"
      ]
     },
     "execution_count": 9,
     "metadata": {},
     "output_type": "execute_result"
    }
   ],
   "source": [
    "b = np.arange(10,51)\n",
    "b"
   ]
  },
  {
   "cell_type": "markdown",
   "metadata": {
    "id": "1zPS7SA1wLFz"
   },
   "source": [
    "#### Create an array of all the even integers from 10 to 50"
   ]
  },
  {
   "cell_type": "code",
   "execution_count": 10,
   "metadata": {
    "id": "vi3Mcb5HwLF0",
    "outputId": "ef16b997-71ed-4f51-e157-876a25147c41"
   },
   "outputs": [
    {
     "data": {
      "text/plain": [
       "array([10, 12, 14, 16, 18, 20, 22, 24, 26, 28, 30, 32, 34, 36, 38, 40, 42,\n",
       "       44, 46, 48, 50])"
      ]
     },
     "execution_count": 10,
     "metadata": {},
     "output_type": "execute_result"
    }
   ],
   "source": [
    "np.arange(10,51,2)"
   ]
  },
  {
   "cell_type": "code",
   "execution_count": 11,
   "metadata": {},
   "outputs": [
    {
     "data": {
      "text/plain": [
       "array([11, 13, 15, 17, 19, 21, 23, 25, 27, 29, 31, 33, 35, 37, 39, 41, 43,\n",
       "       45, 47, 49])"
      ]
     },
     "execution_count": 11,
     "metadata": {},
     "output_type": "execute_result"
    }
   ],
   "source": [
    "np.arange(11,51,2)"
   ]
  },
  {
   "cell_type": "markdown",
   "metadata": {
    "id": "ykZF9eKCwLF2"
   },
   "source": [
    "#### Create a 3x3 matrix with values ranging from 0 to 8"
   ]
  },
  {
   "cell_type": "code",
   "execution_count": 12,
   "metadata": {
    "id": "4QJLoelewLF3",
    "outputId": "51e87cfe-e744-42d4-da41-21da25287e0d"
   },
   "outputs": [
    {
     "data": {
      "text/plain": [
       "array([[0, 1, 2],\n",
       "       [3, 4, 5],\n",
       "       [6, 7, 8]])"
      ]
     },
     "execution_count": 12,
     "metadata": {},
     "output_type": "execute_result"
    }
   ],
   "source": [
    "np.array(([0,1,2],[3,4,5],[6,7,8]))"
   ]
  },
  {
   "cell_type": "code",
   "execution_count": 16,
   "metadata": {},
   "outputs": [],
   "source": [
    "c = np.arange(0,9)\n",
    "d=c.reshape(3,3)"
   ]
  },
  {
   "cell_type": "code",
   "execution_count": 17,
   "metadata": {},
   "outputs": [
    {
     "data": {
      "text/plain": [
       "array([[0, 1, 2],\n",
       "       [3, 4, 5],\n",
       "       [6, 7, 8]])"
      ]
     },
     "execution_count": 17,
     "metadata": {},
     "output_type": "execute_result"
    }
   ],
   "source": [
    "d"
   ]
  },
  {
   "cell_type": "markdown",
   "metadata": {
    "id": "GoHfu7PUwLF4"
   },
   "source": [
    "#### Create a 3x3 identity matrix"
   ]
  },
  {
   "cell_type": "code",
   "execution_count": 18,
   "metadata": {
    "id": "KsKu0lBRwLF5",
    "outputId": "b06ac43e-aecd-4367-b932-19b697adbe9b"
   },
   "outputs": [
    {
     "data": {
      "text/plain": [
       "array([[1., 0., 0.],\n",
       "       [0., 1., 0.],\n",
       "       [0., 0., 1.]])"
      ]
     },
     "execution_count": 18,
     "metadata": {},
     "output_type": "execute_result"
    }
   ],
   "source": [
    "np.eye(3,3)"
   ]
  },
  {
   "cell_type": "markdown",
   "metadata": {
    "id": "vcY_87JJwLF7"
   },
   "source": [
    "#### Use NumPy to generate a random number between 0 and 1"
   ]
  },
  {
   "cell_type": "code",
   "execution_count": 19,
   "metadata": {
    "id": "eOvsBhj3wLF8",
    "outputId": "3a3600e0-f33a-49b4-9dee-e1c562a277d2"
   },
   "outputs": [
    {
     "data": {
      "text/plain": [
       "array([0.18597398])"
      ]
     },
     "execution_count": 19,
     "metadata": {},
     "output_type": "execute_result"
    }
   ],
   "source": [
    "np.random.rand(1)"
   ]
  },
  {
   "cell_type": "markdown",
   "metadata": {
    "id": "BR6RUeWLwLF9"
   },
   "source": [
    "#### Use NumPy to generate an array of 25 random numbers sampled from a standard normal distribution"
   ]
  },
  {
   "cell_type": "code",
   "execution_count": 24,
   "metadata": {},
   "outputs": [
    {
     "data": {
      "text/plain": [
       "array([ 0.94084113,  0.60325334,  0.37502661,  0.74672215, -0.03460223,\n",
       "        0.03168189,  1.08200881, -0.05731399,  2.03714932, -0.98001347,\n",
       "       -0.40950561, -0.32418837,  1.09626695,  0.22959759,  0.34401352,\n",
       "       -1.70230749, -0.31214916, -1.64131078, -0.77826634,  0.72198578,\n",
       "       -1.15801953, -0.48704746, -1.02955775, -1.10225432, -0.45328278])"
      ]
     },
     "execution_count": 24,
     "metadata": {},
     "output_type": "execute_result"
    }
   ],
   "source": [
    "np.random.randn(25)"
   ]
  },
  {
   "cell_type": "code",
   "execution_count": 23,
   "metadata": {
    "id": "jb4glmJswLF-",
    "outputId": "99490eb1-7ff1-46c2-f90e-66a7dd7cad7e"
   },
   "outputs": [
    {
     "data": {
      "text/plain": [
       "array([-0.70392411, -0.71374706,  0.08992806, -0.01102353, -0.25204433,\n",
       "        1.66494943,  0.19131414,  1.96455056,  0.3277305 ,  0.45821123,\n",
       "       -0.43501549,  0.92862085, -0.57333215, -0.3564923 , -0.53980323,\n",
       "        0.45281664,  0.8941829 ,  1.46527733, -1.45365794,  2.46314016,\n",
       "        0.00416058,  0.0437772 , -0.17907912,  0.51011909,  1.79136421])"
      ]
     },
     "execution_count": 23,
     "metadata": {},
     "output_type": "execute_result"
    }
   ],
   "source": [
    "np.random.normal(0,1,25)"
   ]
  },
  {
   "cell_type": "markdown",
   "metadata": {
    "id": "J7h2D065wLF_"
   },
   "source": [
    "#### Create the following matrix:"
   ]
  },
  {
   "cell_type": "code",
   "execution_count": 6,
   "metadata": {
    "id": "J587mgfawLGB",
    "outputId": "ef3bf3f3-d024-4631-cf6a-e1bfdc7d340d"
   },
   "outputs": [
    {
     "data": {
      "text/plain": [
       "array([[0.2337792 , 0.26674623, 0.32074872, 0.89565743, 0.55018871,\n",
       "        0.82922165, 0.0401348 , 0.18968655, 0.15613257],\n",
       "       [0.58640905, 0.16735087, 0.44301488, 0.04947333, 0.22530615,\n",
       "        0.23924214, 0.74573826, 0.91098796, 0.1043441 ],\n",
       "       [0.24368252, 0.4300377 , 0.99272916, 0.31680496, 0.33346196,\n",
       "        0.4821365 , 0.20655578, 0.37509473, 0.97743585],\n",
       "       [0.94109917, 0.28248897, 0.84454905, 0.20571245, 0.54975   ,\n",
       "        0.63474692, 0.87698202, 0.20042931, 0.22943042],\n",
       "       [0.69509393, 0.02721815, 0.90806932, 0.78500417, 0.19002825,\n",
       "        0.61551521, 0.28715846, 0.36319629, 0.80579488],\n",
       "       [0.927043  , 0.14591217, 0.00934742, 0.7211872 , 0.90786282,\n",
       "        0.72399836, 0.14321   , 0.04110482, 0.09474104],\n",
       "       [0.75018365, 0.92127946, 0.44847712, 0.26895087, 0.40871125,\n",
       "        0.26003009, 0.01322554, 0.01094022, 0.64844071],\n",
       "       [0.23975737, 0.96296139, 0.15529996, 0.47249613, 0.96185943,\n",
       "        0.46510099, 0.17381092, 0.07715181, 0.55827428],\n",
       "       [0.81168071, 0.93050703, 0.98618024, 0.42458775, 0.37211502,\n",
       "        0.3708341 , 0.0198634 , 0.40712616, 0.83251542],\n",
       "       [0.907637  , 0.77989692, 0.17931811, 0.9171464 , 0.61442969,\n",
       "        0.67332972, 0.78896392, 0.95694089, 0.74791477]])"
      ]
     },
     "execution_count": 6,
     "metadata": {},
     "output_type": "execute_result"
    }
   ],
   "source": [
    "np.random.rand(10,9)"
   ]
  },
  {
   "cell_type": "markdown",
   "metadata": {
    "id": "D7C9s6XXwLGC"
   },
   "source": [
    "#### Create an array of 20 linearly spaced points between 0 and 1:"
   ]
  },
  {
   "cell_type": "code",
   "execution_count": 10,
   "metadata": {
    "id": "7xmJRx5ywLGD",
    "outputId": "0a744eba-c874-496b-d918-a111dd32d36a"
   },
   "outputs": [
    {
     "data": {
      "text/plain": [
       "array([[-0.32210209,  0.1749827 , -1.43592833,  1.61413076, -1.41593508,\n",
       "        -0.24884554,  1.82373251, -0.07832982,  1.42113992,  0.86139125,\n",
       "        -0.16260171, -0.50080316, -0.48401243,  0.09894636,  0.83099731,\n",
       "        -2.62232571, -0.85862225, -0.77432471,  0.00353457, -1.06252172,\n",
       "         0.56698476]])"
      ]
     },
     "execution_count": 10,
     "metadata": {},
     "output_type": "execute_result"
    }
   ],
   "source": [
    "np.random.randn(1,21)"
   ]
  },
  {
   "cell_type": "markdown",
   "metadata": {
    "id": "n8IUdlD6wLGE"
   },
   "source": [
    "## Numpy Indexing and Selection\n",
    "\n",
    "Now you will be given a few matrices, and be asked to replicate the resulting matrix outputs:"
   ]
  },
  {
   "cell_type": "code",
   "execution_count": 11,
   "metadata": {
    "id": "3S_3ntyvwLGG",
    "outputId": "04252492-64bd-49f9-81b6-5b0bad3502fe"
   },
   "outputs": [
    {
     "data": {
      "text/plain": [
       "array([[ 1,  2,  3,  4,  5],\n",
       "       [ 6,  7,  8,  9, 10],\n",
       "       [11, 12, 13, 14, 15],\n",
       "       [16, 17, 18, 19, 20],\n",
       "       [21, 22, 23, 24, 25]])"
      ]
     },
     "execution_count": 11,
     "metadata": {},
     "output_type": "execute_result"
    }
   ],
   "source": [
    "mat = np.arange(1,26).reshape(5,5)\n",
    "mat"
   ]
  },
  {
   "cell_type": "code",
   "execution_count": null,
   "metadata": {
    "collapsed": true,
    "id": "znttXzlWwLGM"
   },
   "outputs": [],
   "source": [
    "# WRITE CODE HERE THAT REPRODUCES THE OUTPUT OF THE CELL BELOW\n",
    "# BE CAREFUL NOT TO RUN THE CELL BELOW, OTHERWISE YOU WON'T\n",
    "# BE ABLE TO SEE THE OUTPUT ANY MORE"
   ]
  },
  {
   "cell_type": "code",
   "execution_count": 11,
   "metadata": {
    "id": "xqYuRDKPwLGO",
    "outputId": "632e0746-94cb-411c-ee1d-a3eb39b6772a"
   },
   "outputs": [
    {
     "data": {
      "text/plain": [
       "20"
      ]
     },
     "execution_count": 11,
     "metadata": {},
     "output_type": "execute_result"
    }
   ],
   "source": [
    "mat[3,4]"
   ]
  },
  {
   "cell_type": "code",
   "execution_count": null,
   "metadata": {
    "collapsed": true,
    "id": "2GiSS3zFwLGP"
   },
   "outputs": [],
   "source": [
    "# WRITE CODE HERE THAT REPRODUCES THE OUTPUT OF THE CELL BELOW\n",
    "# BE CAREFUL NOT TO RUN THE CELL BELOW, OTHERWISE YOU WON'T\n",
    "# BE ABLE TO SEE THE OUTPUT ANY MORE"
   ]
  },
  {
   "cell_type": "code",
   "execution_count": 26,
   "metadata": {
    "id": "7_zSWfCvwLGQ",
    "outputId": "23cd5080-28bc-48e7-cad4-09190bb16506"
   },
   "outputs": [
    {
     "name": "stdout",
     "output_type": "stream",
     "text": [
      "7\n",
      "12\n",
      "17\n"
     ]
    }
   ],
   "source": [
    "print(mat[1,1])\n",
    "print(mat[2,1])\n",
    "print(mat[3,1])"
   ]
  },
  {
   "cell_type": "code",
   "execution_count": null,
   "metadata": {
    "collapsed": true,
    "id": "oDV9KiwRwLGS"
   },
   "outputs": [],
   "source": [
    "# WRITE CODE HERE THAT REPRODUCES THE OUTPUT OF THE CELL BELOW\n",
    "# BE CAREFUL NOT TO RUN THE CELL BELOW, OTHERWISE YOU WON'T\n",
    "# BE ABLE TO SEE THE OUTPUT ANY MORE"
   ]
  },
  {
   "cell_type": "code",
   "execution_count": 17,
   "metadata": {
    "id": "KBgH1JBFwLGT",
    "outputId": "04105ab3-08c7-4ba1-c718-baba064a3875"
   },
   "outputs": [
    {
     "data": {
      "text/plain": [
       "array([21, 22, 23, 24, 25])"
      ]
     },
     "execution_count": 17,
     "metadata": {},
     "output_type": "execute_result"
    }
   ],
   "source": [
    "mat[4]"
   ]
  },
  {
   "cell_type": "code",
   "execution_count": null,
   "metadata": {
    "collapsed": true,
    "id": "e2UIEttWwLGV"
   },
   "outputs": [],
   "source": [
    "# WRITE CODE HERE THAT REPRODUCES THE OUTPUT OF THE CELL BELOW\n",
    "# BE CAREFUL NOT TO RUN THE CELL BELOW, OTHERWISE YOU WON'T\n",
    "# BE ABLE TO SEE THE OUTPUT ANY MORE"
   ]
  },
  {
   "cell_type": "code",
   "execution_count": 19,
   "metadata": {
    "id": "97E_6tLBwLGW",
    "outputId": "b1b21a79-9c12-4d1a-b8ed-7d7dc6352a26"
   },
   "outputs": [
    {
     "data": {
      "text/plain": [
       "array([[16, 17, 18, 19, 20],\n",
       "       [21, 22, 23, 24, 25]])"
      ]
     },
     "execution_count": 19,
     "metadata": {},
     "output_type": "execute_result"
    }
   ],
   "source": [
    "mat[3:5]"
   ]
  },
  {
   "cell_type": "markdown",
   "metadata": {
    "id": "9z-nCBTDwLGX"
   },
   "source": [
    "### Now do the following"
   ]
  },
  {
   "cell_type": "markdown",
   "metadata": {
    "id": "Sn8q5TlUwLGX"
   },
   "source": [
    "#### Get the sum of all the values in mat"
   ]
  },
  {
   "cell_type": "code",
   "execution_count": null,
   "metadata": {
    "id": "aIOAV3frwLGY",
    "outputId": "e5b5c5b9-1168-4434-83bb-cd93cb46924f"
   },
   "outputs": [
    {
     "data": {
      "text/plain": [
       "325"
      ]
     },
     "execution_count": 50,
     "metadata": {},
     "output_type": "execute_result"
    }
   ],
   "source": [
    "mat.sum()"
   ]
  },
  {
   "cell_type": "markdown",
   "metadata": {
    "id": "0daGccTQwLGZ"
   },
   "source": [
    "#### Get the standard deviation of the values in mat"
   ]
  },
  {
   "cell_type": "code",
   "execution_count": null,
   "metadata": {
    "id": "_IMpbsh2wLGa",
    "outputId": "fecf7fcf-ffb7-4dc4-ab85-1a5981150500"
   },
   "outputs": [
    {
     "data": {
      "text/plain": [
       "7.2111025509279782"
      ]
     },
     "execution_count": 51,
     "metadata": {},
     "output_type": "execute_result"
    }
   ],
   "source": [
    "np.std(mat,axis=0)"
   ]
  },
  {
   "cell_type": "markdown",
   "metadata": {
    "id": "DvRiwi_BwLGb"
   },
   "source": [
    "#### Get the sum of all the columns in mat"
   ]
  },
  {
   "cell_type": "code",
   "execution_count": 30,
   "metadata": {},
   "outputs": [
    {
     "data": {
      "text/plain": [
       "array([55, 60, 65, 70, 75])"
      ]
     },
     "execution_count": 30,
     "metadata": {},
     "output_type": "execute_result"
    }
   ],
   "source": [
    "np.sum(mat,axis=0)"
   ]
  },
  {
   "cell_type": "markdown",
   "metadata": {
    "collapsed": true,
    "id": "DHFq8l19wLGc"
   },
   "source": [
    "# Great Job!"
   ]
  }
 ],
 "metadata": {
  "colab": {
   "collapsed_sections": [],
   "name": "04-Numpy Exercises-Copy1.ipynb",
   "provenance": []
  },
  "kernelspec": {
   "display_name": "Python 3 (ipykernel)",
   "language": "python",
   "name": "python3"
  },
  "language_info": {
   "codemirror_mode": {
    "name": "ipython",
    "version": 3
   },
   "file_extension": ".py",
   "mimetype": "text/x-python",
   "name": "python",
   "nbconvert_exporter": "python",
   "pygments_lexer": "ipython3",
   "version": "3.10.9"
  }
 },
 "nbformat": 4,
 "nbformat_minor": 1
}
